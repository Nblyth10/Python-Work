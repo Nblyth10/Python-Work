{
 "cells": [
  {
   "cell_type": "code",
   "execution_count": 6,
   "metadata": {},
   "outputs": [
    {
     "name": "stdout",
     "output_type": "stream",
     "text": [
      "insert first of three values to find the max off:2\n",
      "insert second of three values to find the max off:3\n",
      "insert third of three values to find the max off:2\n",
      "3 is the max\n"
     ]
    }
   ],
   "source": [
    "def three():\n",
    "    x = [int(input('insert first of three values to find the max off:')),int(input('insert second of three values to find the max off:')),int(input('insert third of three values to find the max off:'))]\n",
    "    if x[0] >= x[1] & x[1] >= x[2]:\n",
    "        print(x[0],'is the max')\n",
    "    elif x[1] >= x[0] & x[1] >= x[2]:\n",
    "        print(x[1] , 'is the max')    \n",
    "    else :\n",
    "        print(x[2],'is the max')\n",
    "three()\n",
    "        "
   ]
  },
  {
   "cell_type": "code",
   "execution_count": null,
   "metadata": {},
   "outputs": [],
   "source": [
    "import pandas as pd \n",
    "import random\n",
    "import numpy as np"
   ]
  },
  {
   "cell_type": "code",
   "execution_count": 45,
   "metadata": {},
   "outputs": [],
   "source": [
    "with open('words 4 hangman.txt','r') as f:\n",
    "    line = f.readline().strip()\n",
    "    y = []\n",
    "    while line:\n",
    "        y.append(line)\n",
    "        line = f.readline().strip()\n"
   ]
  },
  {
   "cell_type": "code",
   "execution_count": 46,
   "metadata": {},
   "outputs": [
    {
     "name": "stdout",
     "output_type": "stream",
     "text": [
      "random word = RECLIMBED\n"
     ]
    }
   ],
   "source": [
    "x = np.random.randint(0,len(y))\n",
    "print('random word =',y[x])"
   ]
  },
  {
   "cell_type": "code",
   "execution_count": 49,
   "metadata": {},
   "outputs": [
    {
     "ename": "SyntaxError",
     "evalue": "invalid syntax (<ipython-input-49-fd6f94bc5a69>, line 4)",
     "output_type": "error",
     "traceback": [
      "\u001b[0;36m  File \u001b[0;32m\"<ipython-input-49-fd6f94bc5a69>\"\u001b[0;36m, line \u001b[0;32m4\u001b[0m\n\u001b[0;31m    input('Guess a letter:'upper())\u001b[0m\n\u001b[0m                               ^\u001b[0m\n\u001b[0;31mSyntaxError\u001b[0m\u001b[0;31m:\u001b[0m invalid syntax\n"
     ]
    }
   ],
   "source": [
    "start = '_'*len(y[x]\n",
    "c = list(start)\n",
    "word = y[x]\n",
    "z = list(word)\n",
    "numguesses = 0\n",
    "guessedLetters = []\n",
    "a = upper(input('Guess a letter:'))\n",
    "while True:\n",
    "    if a in guessedLetters:\n",
    "        print('already guessed')\n",
    "    elif a in z:\n",
    "        index = z.index(a)\n",
    "        c[index] = a\n",
    "        \n",
    "        \n",
    "        \n",
    "    "
   ]
  },
  {
   "cell_type": "code",
   "execution_count": 86,
   "metadata": {},
   "outputs": [],
   "source": [
    "start = '_'*(len('HELLO'))\n",
    "c = list(start)\n",
    "word = 'HELLO'\n",
    "b = list(word)"
   ]
  },
  {
   "cell_type": "code",
   "execution_count": 87,
   "metadata": {},
   "outputs": [],
   "source": [
    "index = b.index('L')\n"
   ]
  },
  {
   "cell_type": "code",
   "execution_count": 88,
   "metadata": {},
   "outputs": [],
   "source": [
    "c[index] = 'L'"
   ]
  },
  {
   "cell_type": "code",
   "execution_count": 89,
   "metadata": {},
   "outputs": [
    {
     "data": {
      "text/plain": [
       "['_', '_', 'L', '_', '_']"
      ]
     },
     "execution_count": 89,
     "metadata": {},
     "output_type": "execute_result"
    }
   ],
   "source": [
    "c"
   ]
  },
  {
   "cell_type": "code",
   "execution_count": 94,
   "metadata": {},
   "outputs": [
    {
     "name": "stdout",
     "output_type": "stream",
     "text": [
      "Welcome to hangman!!\n",
      "guess letter: a\n",
      "__A___A__\n",
      "guess letter: e\n",
      "E_A___A_E\n",
      "guess letter: c\n",
      "E_A___A_E\n",
      "guess letter: v\n",
      "EVA___A_E\n",
      "guess letter: p\n",
      "EVAP__A_E\n",
      "guess letter: o\n",
      "EVAPO_A_E\n",
      "guess letter: r\n",
      "EVAPORA_E\n",
      "guess letter: t\n",
      "You won!!\n"
     ]
    }
   ],
   "source": [
    "if __name__ == '__main__':\n",
    "\tprint(\"Welcome to hangman!!\")\n",
    "\tword = \"EVAPORATE\"\n",
    "\tguessed = \"_\" * len(word)\n",
    "\tword = list(word)\n",
    "\tguessed = list(guessed)\n",
    "\tlstGuessed = []\n",
    "\tletter = input(\"guess letter: \")\n",
    "\twhile True:\n",
    "\t\tif letter.upper() in lstGuessed:\n",
    "\t\t\tletter = ''\n",
    "\t\t\tprint(\"Already guessed!!\")\n",
    "\t\telif letter.upper() in word:\n",
    "\t\t\tindex = word.index(letter.upper())\n",
    "\t\t\tguessed[index] = letter.upper()\n",
    "\t\t\tword[index] = '_'\n",
    "\t\telse:\n",
    "\t\t\tprint(''.join(guessed))\n",
    "\t\t\tif letter is not '':\n",
    "\t\t\t\tlstGuessed.append(letter.upper())\n",
    "\t\t\tletter = input(\"guess letter: \")\n",
    "\n",
    "\t\tif '_' not in guessed:\n",
    "\t\t\tprint(\"You won!!\")\n",
    "\t\t\tbreak"
   ]
  },
  {
   "cell_type": "code",
   "execution_count": 115,
   "metadata": {},
   "outputs": [
    {
     "name": "stdout",
     "output_type": "stream",
     "text": [
      "welcome to the birthday dictionary, I have birthdays for the following people\n",
      "neil\n",
      "james\n",
      "whos name would you like to know their birthday for?fred\n",
      "We do not have this persons birthday, please try again...neil\n",
      "neil has his birthday is on  16/01/1997\n"
     ]
    }
   ],
   "source": [
    "print('welcome to the birthday dictionary, I have birthdays for the following people')\n",
    "bdays = {'neil':'16/01/1997','james':'6/07/1996'}\n",
    "for i in bdays.keys():\n",
    "    print(i)\n",
    "#for names in bdays.keys():\n",
    "#    print(bdays[names])\n",
    "x = input('whos name would you like to know their birthday for?')\n",
    "while True:\n",
    "    if x in bdays:\n",
    "        print(x , 'has his birthday is on ',bdays[x])\n",
    "        break\n",
    "    else:\n",
    "        x = input('We do not have this persons birthday, please try again...')"
   ]
  },
  {
   "cell_type": "code",
   "execution_count": 119,
   "metadata": {},
   "outputs": [
    {
     "name": "stdout",
     "output_type": "stream",
     "text": [
      "neil was added to the birthday list\n"
     ]
    }
   ],
   "source": [
    "name = 'neil'\n",
    "print('{} was added to the birthday list'.format(name))"
   ]
  },
  {
   "cell_type": "code",
   "execution_count": null,
   "metadata": {},
   "outputs": [],
   "source": []
  }
 ],
 "metadata": {
  "kernelspec": {
   "display_name": "Python 3",
   "language": "python",
   "name": "python3"
  },
  "language_info": {
   "codemirror_mode": {
    "name": "ipython",
    "version": 3
   },
   "file_extension": ".py",
   "mimetype": "text/x-python",
   "name": "python",
   "nbconvert_exporter": "python",
   "pygments_lexer": "ipython3",
   "version": "3.7.3"
  }
 },
 "nbformat": 4,
 "nbformat_minor": 2
}
