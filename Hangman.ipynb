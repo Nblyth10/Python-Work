{
 "cells": [
  {
   "cell_type": "code",
   "execution_count": 1,
   "metadata": {},
   "outputs": [],
   "source": [
    "import pandas as pd\n",
    "import numpy as np \n",
    "import random as rd"
   ]
  },
  {
   "cell_type": "code",
   "execution_count": 11,
   "metadata": {},
   "outputs": [],
   "source": [
    "with open('Words 4 Hangman.txt','r') as f:\n",
    "    line = f.readline()\n",
    "    y= []\n",
    "    while line:\n",
    "        y.append(line.strip())\n",
    "        line = f.readline()\n",
    "        \n",
    "        "
   ]
  },
  {
   "cell_type": "code",
   "execution_count": 13,
   "metadata": {},
   "outputs": [],
   "source": [
    "#y"
   ]
  },
  {
   "cell_type": "code",
   "execution_count": 19,
   "metadata": {},
   "outputs": [
    {
     "name": "stdout",
     "output_type": "stream",
     "text": [
      "your random word: PASSINGLY\n"
     ]
    }
   ],
   "source": [
    "z = rd.choice(y)    \n",
    "print('your random word:',z)"
   ]
  },
  {
   "cell_type": "code",
   "execution_count": 21,
   "metadata": {},
   "outputs": [
    {
     "name": "stdout",
     "output_type": "stream",
     "text": [
      "FRECKLE\n",
      "welcome to hangman\n"
     ]
    },
    {
     "data": {
      "text/plain": [
       "'- - - - - - - '"
      ]
     },
     "execution_count": 21,
     "metadata": {},
     "output_type": "execute_result"
    }
   ],
   "source": [
    "# random word is z \n",
    "z = rd.choice(y) \n",
    "print(z)\n",
    "print('welcome to hangman')\n",
    "'- '*len(z)"
   ]
  },
  {
   "cell_type": "code",
   "execution_count": 103,
   "metadata": {},
   "outputs": [
    {
     "name": "stdout",
     "output_type": "stream",
     "text": [
      "would you like to play hangman? y or n?y\n",
      "you have  13 letters to guess correctly\n",
      "throughout this game if you would like to end enter 'end'\n",
      "you have 6 wrong guesses\n",
      "- - - - - - - - - - - - - \n",
      "Which letter would you like to guess?a\n",
      "correct guess\n",
      "your guesses ['A']\n",
      "you have 6 wrong guesses\n",
      "- - - - - - - - - - - A - \n",
      "Which letter would you like to guess?e\n",
      "correct guess\n",
      "your guesses ['A', 'E']\n",
      "you have 6 wrong guesses\n",
      "- E - - E - E - - - - A - \n",
      "Which letter would you like to guess?s\n",
      "wrong guess\n",
      "['A', 'E', 'S']\n",
      "you have 5 wrong guesses\n",
      "- E - - E - E - - - - A - \n",
      "Which letter would you like to guess?t\n",
      "correct guess\n",
      "your guesses ['A', 'E', 'S', 'T']\n",
      "you have 5 wrong guesses\n",
      "- E - - E - E - T - - A - \n",
      "Which letter would you like to guess?r\n",
      "correct guess\n",
      "your guesses ['A', 'E', 'S', 'T', 'R']\n",
      "you have 5 wrong guesses\n",
      "- E R - E - E - T - - A - \n",
      "Which letter would you like to guess?f\n",
      "wrong guess\n",
      "['A', 'E', 'S', 'T', 'R', 'F']\n",
      "you have 4 wrong guesses\n",
      "- E R - E - E - T - - A - \n",
      "Which letter would you like to guess?p\n",
      "wrong guess\n",
      "['A', 'E', 'S', 'T', 'R', 'F', 'P']\n",
      "you have 3 wrong guesses\n",
      "- E R - E - E - T - - A - \n",
      "Which letter would you like to guess?n\n",
      "correct guess\n",
      "your guesses ['A', 'E', 'S', 'T', 'R', 'F', 'P', 'N']\n",
      "you have 3 wrong guesses\n",
      "- E R - E N E - T - - A - \n",
      "Which letter would you like to guess?b\n",
      "wrong guess\n",
      "['A', 'E', 'S', 'T', 'R', 'F', 'P', 'N', 'B']\n",
      "you have 2 wrong guesses\n",
      "- E R - E N E - T - - A - \n",
      "Which letter would you like to guess?i\n",
      "correct guess\n",
      "your guesses ['A', 'E', 'S', 'T', 'R', 'F', 'P', 'N', 'B', 'I']\n",
      "you have 2 wrong guesses\n",
      "- E R - E N E - T I - A - \n",
      "Which letter would you like to guess?g\n",
      "wrong guess\n",
      "['A', 'E', 'S', 'T', 'R', 'F', 'P', 'N', 'B', 'I', 'G']\n",
      "you have 1 wrong guesses\n",
      "- E R - E N E - T I - A - \n",
      "Which letter would you like to guess?m\n",
      "correct guess\n",
      "your guesses ['A', 'E', 'S', 'T', 'R', 'F', 'P', 'N', 'B', 'I', 'G', 'M']\n",
      "you have 1 wrong guesses\n",
      "- E R M E N E - T I - A - \n",
      "Which letter would you like to guess?l\n",
      "correct guess\n",
      "your guesses ['A', 'E', 'S', 'T', 'R', 'F', 'P', 'N', 'B', 'I', 'G', 'M', 'L']\n",
      "you have 1 wrong guesses\n",
      "- E R M E N E - T I - A L \n",
      "Which letter would you like to guess?d\n",
      "wrong guess\n",
      "['A', 'E', 'S', 'T', 'R', 'F', 'P', 'N', 'B', 'I', 'G', 'M', 'L', 'D']\n",
      "too many wrong guesses. The word was HERMENEUTICAL\n",
      "would you like to play again? y or n?y\n",
      "you have  9 letters to guess correctly\n",
      "throughout this game if you would like to end enter 'end'\n",
      "you have 6 wrong guesses\n",
      "- - - - - - - - - \n",
      "Which letter would you like to guess?a\n",
      "correct guess\n",
      "your guesses ['A']\n",
      "you have 6 wrong guesses\n",
      "- A - - - - - - - \n",
      "Which letter would you like to guess?e\n",
      "wrong guess\n",
      "['A', 'E']\n",
      "you have 5 wrong guesses\n",
      "- A - - - - - - - \n",
      "Which letter would you like to guess?i\n",
      "wrong guess\n",
      "['A', 'E', 'I']\n",
      "you have 4 wrong guesses\n",
      "- A - - - - - - - \n",
      "Which letter would you like to guess?o\n",
      "correct guess\n",
      "your guesses ['A', 'E', 'I', 'O']\n",
      "you have 4 wrong guesses\n",
      "- A - - - O - - - \n",
      "Which letter would you like to guess?u\n",
      "wrong guess\n",
      "['A', 'E', 'I', 'O', 'U']\n",
      "you have 3 wrong guesses\n",
      "- A - - - O - - - \n",
      "Which letter would you like to guess?s\n",
      "correct guess\n",
      "your guesses ['A', 'E', 'I', 'O', 'U', 'S']\n",
      "you have 3 wrong guesses\n",
      "- A - - - O - - S \n",
      "Which letter would you like to guess?p\n",
      "wrong guess\n",
      "['A', 'E', 'I', 'O', 'U', 'S', 'P']\n",
      "you have 2 wrong guesses\n",
      "- A - - - O - - S \n",
      "Which letter would you like to guess?l\n",
      "correct guess\n",
      "your guesses ['A', 'E', 'I', 'O', 'U', 'S', 'P', 'L']\n",
      "you have 2 wrong guesses\n",
      "- A L - - O - - S \n",
      "Which letter would you like to guess?d\n",
      "correct guess\n",
      "your guesses ['A', 'E', 'I', 'O', 'U', 'S', 'P', 'L', 'D']\n",
      "you have 2 wrong guesses\n",
      "- A L D - O - - S \n",
      "Which letter would you like to guess?m\n",
      "wrong guess\n",
      "['A', 'E', 'I', 'O', 'U', 'S', 'P', 'L', 'D', 'M']\n",
      "you have 1 wrong guesses\n",
      "- A L D - O - - S \n",
      "Which letter would you like to guess?n\n",
      "correct guess\n",
      "your guesses ['A', 'E', 'I', 'O', 'U', 'S', 'P', 'L', 'D', 'M', 'N']\n",
      "you have 1 wrong guesses\n",
      "- A L D - O - N S \n",
      "Which letter would you like to guess?y\n",
      "wrong guess\n",
      "['A', 'E', 'I', 'O', 'U', 'S', 'P', 'L', 'D', 'M', 'N', 'Y']\n",
      "too many wrong guesses. The word was WALDHORNS\n",
      "would you like to play again? y or n?y\n",
      "you have  9 letters to guess correctly\n",
      "throughout this game if you would like to end enter 'end'\n",
      "you have 6 wrong guesses\n",
      "- - - - - - - - - \n",
      "Which letter would you like to guess?end\n",
      "would you like to play again? y or n?n\n"
     ]
    }
   ],
   "source": [
    "game = input('would you like to play hangman? y or n?').upper()\n",
    "while game == 'Y':\n",
    "    guesses = []\n",
    "    word = rd.choice(y)\n",
    "    count = 0\n",
    "    #Starting point\n",
    "    Correct = list('- '*len(word))\n",
    "    print('you have ',len(word),'letters to guess correctly')\n",
    "    # word in list format\n",
    "    Remaining = list(word)\n",
    "    print('throughout this game if you would like to end enter \\'end\\'')\n",
    "\n",
    "    while True :        \n",
    "        print('you have', 6-count , 'wrong guesses')\n",
    "        print(''.join(Correct)/n)\n",
    "        guess = input('Which letter would you like to guess?').upper()\n",
    "        if guess == 'END':\n",
    "            break\n",
    "        if guess in guesses:\n",
    "            print('you have already guessed this - guess another?')\n",
    "        elif guess in Remaining:\n",
    "            print('correct guess')\n",
    "            for i in range(10):\n",
    "                 if guess in Remaining:\n",
    "                        x = Remaining.index(guess)\n",
    "                        Remaining[x] = '-'\n",
    "                        Correct[2*x] = guess\n",
    "    #                    print(Remaining)\n",
    "    #        count += 1\n",
    "            guesses.append(guess)\n",
    "            print('your guesses',guesses)        \n",
    "        else: \n",
    "            print('wrong guess')\n",
    "            count += 1\n",
    "            guesses.append(guess)\n",
    "            print(guesses)\n",
    "        if ''.join(Remaining) == '-'*len(z):\n",
    "            print('Finished! You had', count, 'wrong goes')\n",
    "            print(''.join(Correct))\n",
    "            break\n",
    "    #    print(''.join(Remaining))\n",
    "        elif count == 6:\n",
    "            print('too many wrong guesses. The word was',word)\n",
    "            break\n",
    "\n",
    "    game = input('would you like to play again? y or n?').upper()"
   ]
  },
  {
   "cell_type": "raw",
   "metadata": {},
   "source": []
  },
  {
   "cell_type": "code",
   "execution_count": null,
   "metadata": {},
   "outputs": [],
   "source": []
  }
 ],
 "metadata": {
  "kernelspec": {
   "display_name": "Python 3",
   "language": "python",
   "name": "python3"
  },
  "language_info": {
   "codemirror_mode": {
    "name": "ipython",
    "version": 3
   },
   "file_extension": ".py",
   "mimetype": "text/x-python",
   "name": "python",
   "nbconvert_exporter": "python",
   "pygments_lexer": "ipython3",
   "version": "3.7.3"
  }
 },
 "nbformat": 4,
 "nbformat_minor": 2
}
