{
 "cells": [
  {
   "cell_type": "code",
   "execution_count": 13,
   "metadata": {},
   "outputs": [],
   "source": [
    "import numpy as np \n",
    "import pandas as pd \n",
    "import matplotlib.pyplot as plt\n",
    "import random as rd \n",
    "import json\n"
   ]
  },
  {
   "cell_type": "code",
   "execution_count": 36,
   "metadata": {},
   "outputs": [
    {
     "data": {
      "text/plain": [
       "{'Albert Einstein': '03/14/1879',\n",
       " 'Ada Byron Lovelace': '12/10/1815',\n",
       " 'Benjamin Franklin': '01/17/1706',\n",
       " 'Jame': '116/01/1997'}"
      ]
     },
     "execution_count": 36,
     "metadata": {},
     "output_type": "execute_result"
    }
   ],
   "source": [
    "with open('scientist_birthdays.json' , 'r') as f:\n",
    "    dict = json.load(f)\n",
    "dict"
   ]
  },
  {
   "cell_type": "code",
   "execution_count": 24,
   "metadata": {},
   "outputs": [
    {
     "name": "stdout",
     "output_type": "stream",
     "text": [
      "welcome, we know the birthdays of:\n",
      "dict_keys(['Albert Einstein', 'Ada Byron Lovelace', 'Benjamin Franklin'])\n",
      "whose birthday would you like to know the date of?Benjamin Franklin\n",
      "01/17/1706\n"
     ]
    }
   ],
   "source": [
    "print('welcome, we know the birthdays of:')\n",
    "print(dict.keys())\n",
    "x = input('whose birthday would you like to know the date of?')\n",
    "print(dict[x])"
   ]
  },
  {
   "cell_type": "code",
   "execution_count": 25,
   "metadata": {},
   "outputs": [],
   "source": [
    "#Stage 2"
   ]
  },
  {
   "cell_type": "code",
   "execution_count": 32,
   "metadata": {},
   "outputs": [
    {
     "name": "stdout",
     "output_type": "stream",
     "text": [
      "would you like to add any extra names? Enter Y or N Y\n",
      "enter their nameJame\n",
      "enter their birthday in the following format DD/MM/YYYY116/01/1997\n",
      "would you like to add any extra names? Enter Y or N N\n"
     ]
    },
    {
     "data": {
      "text/plain": [
       "{'Albert Einstein': '03/14/1879',\n",
       " 'Ada Byron Lovelace': '12/10/1815',\n",
       " 'Benjamin Franklin': '01/17/1706',\n",
       " 'Jame': '116/01/1997'}"
      ]
     },
     "execution_count": 32,
     "metadata": {},
     "output_type": "execute_result"
    }
   ],
   "source": [
    "with open('scientist_birthdays.json' , 'r') as f:\n",
    "    dict = json.load(f)\n",
    "    x = input('would you like to add any extra names? Enter Y or N ').upper()\n",
    "    while x == 'Y':\n",
    "        name = input('enter their name')\n",
    "        Bday = input('enter their birthday in the following format DD/MM/YYYY')\n",
    "        dict[name] = Bday\n",
    "        with open('scientist_birthdays.json', 'w') as w:\n",
    "            json.dump(dict,w)\n",
    "        x = input('would you like to add any extra names? Enter Y or N ').upper()\n",
    "        \n",
    "        \n",
    "    \n",
    "dict    "
   ]
  },
  {
   "cell_type": "code",
   "execution_count": 33,
   "metadata": {},
   "outputs": [
    {
     "data": {
      "text/plain": [
       "{'Albert Einstein': '03/14/1879',\n",
       " 'Ada Byron Lovelace': '12/10/1815',\n",
       " 'Benjamin Franklin': '01/17/1706',\n",
       " 'Jame': '116/01/1997'}"
      ]
     },
     "execution_count": 33,
     "metadata": {},
     "output_type": "execute_result"
    }
   ],
   "source": [
    "with open('scientist_birthdays.json' , 'r') as f:\n",
    "    dict = json.load(f)\n",
    "        \n",
    "dict    "
   ]
  },
  {
   "cell_type": "code",
   "execution_count": 34,
   "metadata": {},
   "outputs": [
    {
     "name": "stdout",
     "output_type": "stream",
     "text": [
      "The current entries in my birthday list are:\n",
      "============================================\n"
     ]
    }
   ],
   "source": [
    "   print('The current entries in my birthday list are:\\n============================================')"
   ]
  },
  {
   "cell_type": "code",
   "execution_count": 35,
   "metadata": {},
   "outputs": [
    {
     "name": "stdout",
     "output_type": "stream",
     "text": [
      "\n",
      "\n",
      "heloo\n"
     ]
    }
   ],
   "source": [
    "print('\\n\\nheloo')"
   ]
  },
  {
   "cell_type": "code",
   "execution_count": 38,
   "metadata": {},
   "outputs": [
    {
     "name": "stdout",
     "output_type": "stream",
     "text": [
      "Albert Einstein\n",
      "Ada Byron Lovelace\n",
      "Benjamin Franklin\n",
      "Jame\n"
     ]
    }
   ],
   "source": [
    "for key in dict:\n",
    "    print(key)"
   ]
  },
  {
   "cell_type": "code",
   "execution_count": 41,
   "metadata": {},
   "outputs": [],
   "source": [
    "from collections import Counter"
   ]
  },
  {
   "cell_type": "code",
   "execution_count": 48,
   "metadata": {},
   "outputs": [
    {
     "data": {
      "text/plain": [
       "{'Albert Einstein': '03/14/1879',\n",
       " 'Ada Byron Lovelace': '12/10/1815',\n",
       " 'Benjamin Franklin': '01/17/1706',\n",
       " 'Jame': '01/16/1997'}"
      ]
     },
     "execution_count": 48,
     "metadata": {},
     "output_type": "execute_result"
    }
   ],
   "source": [
    "dict['Jame'] = '01/16/1997'\n",
    "dict"
   ]
  },
  {
   "cell_type": "code",
   "execution_count": 52,
   "metadata": {},
   "outputs": [],
   "source": [
    "x = []\n",
    "for key in dict:\n",
    "    x.append(dict[key][0:2])"
   ]
  },
  {
   "cell_type": "code",
   "execution_count": 62,
   "metadata": {},
   "outputs": [
    {
     "data": {
      "text/plain": [
       "['03', '12', '01', '01']"
      ]
     },
     "execution_count": 62,
     "metadata": {},
     "output_type": "execute_result"
    }
   ],
   "source": []
  },
  {
   "cell_type": "code",
   "execution_count": 59,
   "metadata": {},
   "outputs": [
    {
     "data": {
      "text/plain": [
       "Counter({'0': 1, '1': 3, '/': 2, '6': 1, '9': 2, '7': 1})"
      ]
     },
     "execution_count": 59,
     "metadata": {},
     "output_type": "execute_result"
    }
   ],
   "source": [
    "Counter(x)"
   ]
  },
  {
   "cell_type": "code",
   "execution_count": 63,
   "metadata": {},
   "outputs": [],
   "source": [
    "monthstring = {\n",
    "    '01':'January',\n",
    "    '02':'February',\n",
    "    '03':'March',\n",
    "    '04':'April',\n",
    "    '05':'May',\n",
    "    '06':'June',\n",
    "    '07':'July',\n",
    "    '08':'August',\n",
    "    '08':'September',\n",
    "    '10':'October',\n",
    "    '11':'November',\n",
    "    '12':'December',\n",
    "}"
   ]
  },
  {
   "cell_type": "code",
   "execution_count": 67,
   "metadata": {},
   "outputs": [],
   "source": [
    "y = []\n",
    "for x in dict.values():\n",
    "    y.append(monthstring[x.split('/')[0]]) \n",
    "z = Counter(y)"
   ]
  },
  {
   "cell_type": "code",
   "execution_count": 75,
   "metadata": {},
   "outputs": [
    {
     "data": {
      "text/plain": [
       "dict_values([1, 1, 2])"
      ]
     },
     "execution_count": 75,
     "metadata": {},
     "output_type": "execute_result"
    }
   ],
   "source": [
    "z.values()"
   ]
  },
  {
   "cell_type": "code",
   "execution_count": 77,
   "metadata": {},
   "outputs": [
    {
     "data": {
      "text/plain": [
       "<BarContainer object of 3 artists>"
      ]
     },
     "execution_count": 77,
     "metadata": {},
     "output_type": "execute_result"
    },
    {
     "data": {
      "image/png": "[encoded data removed]",
      "text/plain": [
       "<Figure size 432x288 with 1 Axes>"
      ]
     },
     "metadata": {
      "needs_background": "light"
     },
     "output_type": "display_data"
    }
   ],
   "source": [
    "plt.bar(z.keys(),z.values())"
   ]
  },
  {
   "cell_type": "code",
   "execution_count": null,
   "metadata": {},
   "outputs": [],
   "source": []
  }
 ],
 "metadata": {
  "kernelspec": {
   "display_name": "Python 3",
   "language": "python",
   "name": "python3"
  },
  "language_info": {
   "codemirror_mode": {
    "name": "ipython",
    "version": 3
   },
   "file_extension": ".py",
   "mimetype": "text/x-python",
   "name": "python",
   "nbconvert_exporter": "python",
   "pygments_lexer": "ipython3",
   "version": "3.7.3"
  }
 },
 "nbformat": 4,
 "nbformat_minor": 2
}
